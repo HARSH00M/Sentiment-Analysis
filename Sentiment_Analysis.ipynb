{
  "nbformat": 4,
  "nbformat_minor": 0,
  "metadata": {
    "colab": {
      "provenance": [],
      "authorship_tag": "ABX9TyNEhnx6mMqZrXuC9zkHKxzH",
      "include_colab_link": true
    },
    "kernelspec": {
      "name": "python3",
      "display_name": "Python 3"
    },
    "language_info": {
      "name": "python"
    }
  },
  "cells": [
    {
      "cell_type": "markdown",
      "metadata": {
        "id": "view-in-github",
        "colab_type": "text"
      },
      "source": [
        "<a href=\"https://colab.research.google.com/github/HARSH00M/Sentiment-Analysis/blob/main/Sentiment_Analysis.ipynb\" target=\"_parent\"><img src=\"https://colab.research.google.com/assets/colab-badge.svg\" alt=\"Open In Colab\"/></a>"
      ]
    },
    {
      "cell_type": "markdown",
      "source": [
        "**CountVectorizer(cv)** is a text preprocessing technique commonly used in natural language processing (NLP) tasks for converting a collection of text documents into a numerical representation. It is part of the scikit-learn library.\n",
        "\n",
        "The process follows :\n",
        "1. Provide array of sentences to cv\n",
        "2. After cv.fit_transform(sentences) the model will give Document Term Matrix\n",
        "\n",
        "The algorithm will select all the unique word in all the sentence.\n",
        "Then creates a table which gives the number of occurence of word in the whole sentence.\n"
      ],
      "metadata": {
        "id": "X0w4QWu_UZni"
      }
    },
    {
      "cell_type": "code",
      "source": [
        "import nltk\n",
        "import pandas as pd\n",
        "nltk.download('punkt')\n",
        "corpus = \"I like to play football. Did you go outside to play tennis ? John and I play tennis\"\n",
        "from sklearn.feature_extraction.text import CountVectorizer\n",
        "from nltk import tokenize as tz"
      ],
      "metadata": {
        "id": "1a_u0xwgOILS",
        "colab": {
          "base_uri": "https://localhost:8080/"
        },
        "outputId": "18fef98c-97ed-4731-82be-f1fb2206c0c7"
      },
      "execution_count": 64,
      "outputs": [
        {
          "output_type": "stream",
          "name": "stderr",
          "text": [
            "[nltk_data] Downloading package punkt to /root/nltk_data...\n",
            "[nltk_data]   Package punkt is already up-to-date!\n"
          ]
        }
      ]
    },
    {
      "cell_type": "code",
      "source": [
        "\n",
        "cv = CountVectorizer()"
      ],
      "metadata": {
        "id": "-4Mw_hmgPcHR"
      },
      "execution_count": 41,
      "outputs": []
    },
    {
      "cell_type": "code",
      "source": [
        "sentences = tz.sent_tokenize(corpus)\n",
        "word = tz.word_tokenize(corpus) #no use here\n",
        "sentences"
      ],
      "metadata": {
        "colab": {
          "base_uri": "https://localhost:8080/"
        },
        "id": "97vP73iGPwrE",
        "outputId": "f90b83c8-e476-45d8-c80a-b06d6f3d8420"
      },
      "execution_count": 43,
      "outputs": [
        {
          "output_type": "execute_result",
          "data": {
            "text/plain": [
              "['I like to play football.',\n",
              " 'Did you go outside to play tennis ?',\n",
              " 'John and I play tennis']"
            ]
          },
          "metadata": {},
          "execution_count": 43
        }
      ]
    },
    {
      "cell_type": "code",
      "source": [
        "model = cv.fit(sentences)\n",
        "\n",
        "print(model.vocabulary_)\n",
        "print(model.get_feature_names_out()) #all the unique features(unique values from input corpus)"
      ],
      "metadata": {
        "colab": {
          "base_uri": "https://localhost:8080/"
        },
        "id": "DfsrGmR1QrZi",
        "outputId": "3916a972-4986-46e5-e9a8-c743b083ac1c"
      },
      "execution_count": 48,
      "outputs": [
        {
          "output_type": "stream",
          "name": "stdout",
          "text": [
            "{'like': 5, 'to': 9, 'play': 7, 'football': 2, 'did': 1, 'you': 10, 'go': 3, 'outside': 6, 'tennis': 8, 'john': 4, 'and': 0}\n",
            "['and' 'did' 'football' 'go' 'john' 'like' 'outside' 'play' 'tennis' 'to'\n",
            " 'you']\n"
          ]
        }
      ]
    },
    {
      "cell_type": "code",
      "source": [
        "model = cv.transform(sentences)\n",
        "print(model.shape)\n",
        "# print(model)\n",
        "print(model.toarray())\n",
        "df = pd.DataFrame(model.toarray(), columns = cv.get_feature_names_out())\n",
        "\n",
        "df"
      ],
      "metadata": {
        "colab": {
          "base_uri": "https://localhost:8080/"
        },
        "id": "yhz5IRf6SIzj",
        "outputId": "643120c9-b8fc-4558-ddcb-4e135d9e03ea"
      },
      "execution_count": 63,
      "outputs": [
        {
          "output_type": "stream",
          "name": "stdout",
          "text": [
            "(3, 11)\n",
            "[[0 0 1 0 0 1 0 1 0 1 0]\n",
            " [0 1 0 1 0 0 1 1 1 1 1]\n",
            " [1 0 0 0 1 0 0 1 1 0 0]]\n",
            "   and  did  football  go  john  like  outside  play  tennis  to  you\n",
            "0    0    0         1   0     0     1        0     1       0   1    0\n",
            "1    0    1         0   1     0     0        1     1       1   1    1\n",
            "2    1    0         0   0     1     0        0     1       1   0    0\n"
          ]
        }
      ]
    }
  ]
}